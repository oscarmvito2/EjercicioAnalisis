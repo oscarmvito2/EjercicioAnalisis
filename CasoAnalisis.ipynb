{
 "cells": [
  {
   "cell_type": "markdown",
   "id": "0ee62c65-8984-4dfa-a53f-250549b060fc",
   "metadata": {},
   "source": [
    "# ANÁLISIS DE DATOS CON PYTHON\n",
    "# Solicitudes de Seguro de desempleo en la CDMX"
   ]
  },
  {
   "cell_type": "code",
   "execution_count": 16,
   "id": "1575b903-327b-4347-9ff5-e34635a339e5",
   "metadata": {},
   "outputs": [],
   "source": [
    "#ImportamoS las librerías a utilizar\n",
    "import pandas as pd\n",
    "import matplotlib.pyplot as plt\n",
    "import seaborn as sns\n",
    "import numpy as np\n",
    "from scipy.stats import norm\n",
    "from sklearn.preprocessing import StandardScaler\n",
    "from scipy import stats\n",
    "import warnings\n",
    "import matplotlib.pyplot as plt \n",
    "warnings.filterwarnings('ignore') # Para evitar avisos.\n",
    "%matplotlib inline"
   ]
  },
  {
   "cell_type": "code",
   "execution_count": 2,
   "id": "52af3c5f-fd94-45aa-afbb-a8cfc21d950e",
   "metadata": {},
   "outputs": [
    {
     "data": {
      "text/html": [
       "<div>\n",
       "<style scoped>\n",
       "    .dataframe tbody tr th:only-of-type {\n",
       "        vertical-align: middle;\n",
       "    }\n",
       "\n",
       "    .dataframe tbody tr th {\n",
       "        vertical-align: top;\n",
       "    }\n",
       "\n",
       "    .dataframe thead th {\n",
       "        text-align: right;\n",
       "    }\n",
       "</style>\n",
       "<table border=\"1\" class=\"dataframe\">\n",
       "  <thead>\n",
       "    <tr style=\"text-align: right;\">\n",
       "      <th></th>\n",
       "      <th>id</th>\n",
       "      <th>estatus</th>\n",
       "      <th>tipo_poblacion</th>\n",
       "      <th>codigo_postal</th>\n",
       "      <th>colonia</th>\n",
       "      <th>alcaldia</th>\n",
       "      <th>estado_civil</th>\n",
       "      <th>dependientes_ecconomicos</th>\n",
       "      <th>num_dependientes_economicos</th>\n",
       "      <th>ult_grado_estudios</th>\n",
       "      <th>estatus_estudios</th>\n",
       "      <th>profesion</th>\n",
       "      <th>tiempo_buscando_empleo</th>\n",
       "    </tr>\n",
       "  </thead>\n",
       "  <tbody>\n",
       "    <tr>\n",
       "      <th>0</th>\n",
       "      <td>0</td>\n",
       "      <td>APROBADO</td>\n",
       "      <td>POBLACION GENERAL</td>\n",
       "      <td>15630</td>\n",
       "      <td>CARACOL</td>\n",
       "      <td>VENUSTIANO CARRANZA</td>\n",
       "      <td>SIN DATO</td>\n",
       "      <td>SIN DATO</td>\n",
       "      <td>SIN DATO</td>\n",
       "      <td>POSGRADO</td>\n",
       "      <td>CONCLUIDO</td>\n",
       "      <td>SIN DATO</td>\n",
       "      <td>SIN DATO</td>\n",
       "    </tr>\n",
       "    <tr>\n",
       "      <th>1</th>\n",
       "      <td>1</td>\n",
       "      <td>APROBADO</td>\n",
       "      <td>POBLACION GENERAL</td>\n",
       "      <td>4970</td>\n",
       "      <td>HACIENDAS DE COYOACAN</td>\n",
       "      <td>COYOACAN</td>\n",
       "      <td>SIN DATO</td>\n",
       "      <td>SIN DATO</td>\n",
       "      <td>SIN DATO</td>\n",
       "      <td>LICENCIATURA</td>\n",
       "      <td>CONCLUIDO</td>\n",
       "      <td>SIN DATO</td>\n",
       "      <td>SIN DATO</td>\n",
       "    </tr>\n",
       "    <tr>\n",
       "      <th>2</th>\n",
       "      <td>2</td>\n",
       "      <td>NO APROBADO</td>\n",
       "      <td>POBLACION GENERAL</td>\n",
       "      <td>1710</td>\n",
       "      <td>LAS AGUILAS</td>\n",
       "      <td>ALVARO OBREGON</td>\n",
       "      <td>SIN DATO</td>\n",
       "      <td>SIN DATO</td>\n",
       "      <td>SIN DATO</td>\n",
       "      <td>SECUNDARIA</td>\n",
       "      <td>CONCLUIDO</td>\n",
       "      <td>SIN DATO</td>\n",
       "      <td>SIN DATO</td>\n",
       "    </tr>\n",
       "    <tr>\n",
       "      <th>3</th>\n",
       "      <td>3</td>\n",
       "      <td>NO APROBADO</td>\n",
       "      <td>POBLACION GENERAL</td>\n",
       "      <td>2400</td>\n",
       "      <td>SAN JUAN TLIHUACA</td>\n",
       "      <td>AZCAPOTZALCO</td>\n",
       "      <td>SIN DATO</td>\n",
       "      <td>SIN DATO</td>\n",
       "      <td>SIN DATO</td>\n",
       "      <td>TECNICA/COMERCIAL</td>\n",
       "      <td>TRUNCO</td>\n",
       "      <td>SIN DATO</td>\n",
       "      <td>SIN DATO</td>\n",
       "    </tr>\n",
       "    <tr>\n",
       "      <th>4</th>\n",
       "      <td>4</td>\n",
       "      <td>APROBADO</td>\n",
       "      <td>POBLACION GENERAL</td>\n",
       "      <td>14240</td>\n",
       "      <td>LOMAS DE PADIERNA</td>\n",
       "      <td>TLALPAN</td>\n",
       "      <td>SIN DATO</td>\n",
       "      <td>SIN DATO</td>\n",
       "      <td>SIN DATO</td>\n",
       "      <td>BACHILLERATO</td>\n",
       "      <td>TRUNCO</td>\n",
       "      <td>SIN DATO</td>\n",
       "      <td>SIN DATO</td>\n",
       "    </tr>\n",
       "    <tr>\n",
       "      <th>5</th>\n",
       "      <td>5</td>\n",
       "      <td>NO APROBADO</td>\n",
       "      <td>POBLACION GENERAL</td>\n",
       "      <td>9810</td>\n",
       "      <td>GRANJAS ESMERALDA</td>\n",
       "      <td>IZTAPALAPA</td>\n",
       "      <td>SIN DATO</td>\n",
       "      <td>SIN DATO</td>\n",
       "      <td>SIN DATO</td>\n",
       "      <td>BACHILLERATO</td>\n",
       "      <td>CONCLUIDO</td>\n",
       "      <td>SIN DATO</td>\n",
       "      <td>SIN DATO</td>\n",
       "    </tr>\n",
       "    <tr>\n",
       "      <th>6</th>\n",
       "      <td>6</td>\n",
       "      <td>NO APROBADO</td>\n",
       "      <td>POBLACION GENERAL</td>\n",
       "      <td>9690</td>\n",
       "      <td>IZTLAHUACAN</td>\n",
       "      <td>IZTAPALAPA</td>\n",
       "      <td>SIN DATO</td>\n",
       "      <td>SIN DATO</td>\n",
       "      <td>SIN DATO</td>\n",
       "      <td>BACHILLERATO</td>\n",
       "      <td>TRUNCO</td>\n",
       "      <td>SIN DATO</td>\n",
       "      <td>SIN DATO</td>\n",
       "    </tr>\n",
       "    <tr>\n",
       "      <th>7</th>\n",
       "      <td>7</td>\n",
       "      <td>NO APROBADO</td>\n",
       "      <td>POBLACION GENERAL</td>\n",
       "      <td>7230</td>\n",
       "      <td>ZONA ESCOLAR</td>\n",
       "      <td>GUSTAVO A MADERO</td>\n",
       "      <td>SIN DATO</td>\n",
       "      <td>SIN DATO</td>\n",
       "      <td>SIN DATO</td>\n",
       "      <td>BACHILLERATO</td>\n",
       "      <td>CONCLUIDO</td>\n",
       "      <td>SIN DATO</td>\n",
       "      <td>SIN DATO</td>\n",
       "    </tr>\n",
       "    <tr>\n",
       "      <th>8</th>\n",
       "      <td>8</td>\n",
       "      <td>NO APROBADO</td>\n",
       "      <td>POBLACION GENERAL</td>\n",
       "      <td>13093</td>\n",
       "      <td>SAN SEBASTIAN</td>\n",
       "      <td>TLAHUAC</td>\n",
       "      <td>SIN DATO</td>\n",
       "      <td>SIN DATO</td>\n",
       "      <td>SIN DATO</td>\n",
       "      <td>BACHILLERATO</td>\n",
       "      <td>CONCLUIDO</td>\n",
       "      <td>SIN DATO</td>\n",
       "      <td>SIN DATO</td>\n",
       "    </tr>\n",
       "    <tr>\n",
       "      <th>9</th>\n",
       "      <td>9</td>\n",
       "      <td>NO APROBADO</td>\n",
       "      <td>POBLACION GENERAL</td>\n",
       "      <td>8700</td>\n",
       "      <td>JUVENTINO ROSAS</td>\n",
       "      <td>IZTACALCO</td>\n",
       "      <td>SIN DATO</td>\n",
       "      <td>SIN DATO</td>\n",
       "      <td>SIN DATO</td>\n",
       "      <td>BACHILLERATO</td>\n",
       "      <td>TRUNCO</td>\n",
       "      <td>SIN DATO</td>\n",
       "      <td>SIN DATO</td>\n",
       "    </tr>\n",
       "  </tbody>\n",
       "</table>\n",
       "</div>"
      ],
      "text/plain": [
       "   id      estatus     tipo_poblacion codigo_postal                colonia  \\\n",
       "0   0     APROBADO  POBLACION GENERAL         15630                CARACOL   \n",
       "1   1     APROBADO  POBLACION GENERAL          4970  HACIENDAS DE COYOACAN   \n",
       "2   2  NO APROBADO  POBLACION GENERAL          1710            LAS AGUILAS   \n",
       "3   3  NO APROBADO  POBLACION GENERAL          2400      SAN JUAN TLIHUACA   \n",
       "4   4     APROBADO  POBLACION GENERAL         14240      LOMAS DE PADIERNA   \n",
       "5   5  NO APROBADO  POBLACION GENERAL          9810      GRANJAS ESMERALDA   \n",
       "6   6  NO APROBADO  POBLACION GENERAL          9690            IZTLAHUACAN   \n",
       "7   7  NO APROBADO  POBLACION GENERAL          7230           ZONA ESCOLAR   \n",
       "8   8  NO APROBADO  POBLACION GENERAL         13093          SAN SEBASTIAN   \n",
       "9   9  NO APROBADO  POBLACION GENERAL          8700        JUVENTINO ROSAS   \n",
       "\n",
       "              alcaldia estado_civil dependientes_ecconomicos  \\\n",
       "0  VENUSTIANO CARRANZA     SIN DATO                 SIN DATO   \n",
       "1             COYOACAN     SIN DATO                 SIN DATO   \n",
       "2       ALVARO OBREGON     SIN DATO                 SIN DATO   \n",
       "3         AZCAPOTZALCO     SIN DATO                 SIN DATO   \n",
       "4              TLALPAN     SIN DATO                 SIN DATO   \n",
       "5           IZTAPALAPA     SIN DATO                 SIN DATO   \n",
       "6           IZTAPALAPA     SIN DATO                 SIN DATO   \n",
       "7     GUSTAVO A MADERO     SIN DATO                 SIN DATO   \n",
       "8              TLAHUAC     SIN DATO                 SIN DATO   \n",
       "9            IZTACALCO     SIN DATO                 SIN DATO   \n",
       "\n",
       "  num_dependientes_economicos ult_grado_estudios estatus_estudios profesion  \\\n",
       "0                    SIN DATO           POSGRADO        CONCLUIDO  SIN DATO   \n",
       "1                    SIN DATO       LICENCIATURA        CONCLUIDO  SIN DATO   \n",
       "2                    SIN DATO         SECUNDARIA        CONCLUIDO  SIN DATO   \n",
       "3                    SIN DATO  TECNICA/COMERCIAL           TRUNCO  SIN DATO   \n",
       "4                    SIN DATO       BACHILLERATO           TRUNCO  SIN DATO   \n",
       "5                    SIN DATO       BACHILLERATO        CONCLUIDO  SIN DATO   \n",
       "6                    SIN DATO       BACHILLERATO           TRUNCO  SIN DATO   \n",
       "7                    SIN DATO       BACHILLERATO        CONCLUIDO  SIN DATO   \n",
       "8                    SIN DATO       BACHILLERATO        CONCLUIDO  SIN DATO   \n",
       "9                    SIN DATO       BACHILLERATO           TRUNCO  SIN DATO   \n",
       "\n",
       "  tiempo_buscando_empleo  \n",
       "0               SIN DATO  \n",
       "1               SIN DATO  \n",
       "2               SIN DATO  \n",
       "3               SIN DATO  \n",
       "4               SIN DATO  \n",
       "5               SIN DATO  \n",
       "6               SIN DATO  \n",
       "7               SIN DATO  \n",
       "8               SIN DATO  \n",
       "9               SIN DATO  "
      ]
     },
     "execution_count": 2,
     "metadata": {},
     "output_type": "execute_result"
    }
   ],
   "source": [
    "#Cargamos los datos del archivo separado por comas en un dataframe\n",
    "data_df = pd.read_csv('solicitudes.csv')\n",
    "data_df.head(10)"
   ]
  },
  {
   "cell_type": "code",
   "execution_count": 17,
   "id": "77c4f819-4920-4c4d-aff8-a9d934c05f14",
   "metadata": {},
   "outputs": [
    {
     "data": {
      "text/plain": [
       "Index(['id', 'estatus', 'tipo_poblacion', 'codigo_postal', 'colonia',\n",
       "       'alcaldia', 'estado_civil', 'dependientes_ecconomicos',\n",
       "       'num_dependientes_economicos', 'ult_grado_estudios', 'estatus_estudios',\n",
       "       'profesion', 'tiempo_buscando_empleo'],\n",
       "      dtype='object')"
      ]
     },
     "execution_count": 17,
     "metadata": {},
     "output_type": "execute_result"
    }
   ],
   "source": [
    "data_df.columns"
   ]
  },
  {
   "cell_type": "markdown",
   "id": "a525bc7b-dba8-4ba1-9e6f-de5ca14153b5",
   "metadata": {},
   "source": [
    "# Me enfocare en tratar de entender la relevancia del nivel de estudios en la solicitud de el seguro de desempleo en la CDMX."
   ]
  },
  {
   "cell_type": "markdown",
   "id": "8f33487b-7d0f-4d48-974c-b101c412c07f",
   "metadata": {},
   "source": [
    "Se utiliza la variable ult_grado_estudios para determinar los niveles de estudios que más solicitan el seguro de desempleo"
   ]
  },
  {
   "cell_type": "code",
   "execution_count": 18,
   "id": "8a1e8105-934f-4e56-9922-5dc5084dfed1",
   "metadata": {},
   "outputs": [
    {
     "data": {
      "text/plain": [
       "BACHILLERATO         5749\n",
       "LICENCIATURA         4978\n",
       "SECUNDARIA           4871\n",
       "TECNICA/COMERCIAL    1943\n",
       "PRIMARIA             1936\n",
       "SIN DATO              586\n",
       "POSGRADO              411\n",
       "NINGUNO               314\n",
       "Name: ult_grado_estudios, dtype: int64"
      ]
     },
     "execution_count": 18,
     "metadata": {},
     "output_type": "execute_result"
    }
   ],
   "source": [
    "data_df['ult_grado_estudios'].value_counts()"
   ]
  },
  {
   "cell_type": "code",
   "execution_count": 19,
   "id": "7ff0dff3-8dd5-4af6-91a2-6fd2a3f87dbf",
   "metadata": {},
   "outputs": [
    {
     "data": {
      "text/plain": [
       "<AxesSubplot:>"
      ]
     },
     "execution_count": 19,
     "metadata": {},
     "output_type": "execute_result"
    },
    {
     "data": {
      "image/png": "[encoded data removed]",
      "text/plain": [
       "<Figure size 432x288 with 1 Axes>"
      ]
     },
     "metadata": {
      "needs_background": "light"
     },
     "output_type": "display_data"
    }
   ],
   "source": [
    "#Para mayor claridad desplegamos una gráfica con la información de la solicitud de seguro\n",
    "# de desempleo por nivel de estudios\n",
    "data_df['ult_grado_estudios'].value_counts().plot(kind='bar')"
   ]
  },
  {
   "cell_type": "markdown",
   "id": "3ff21ccf-0d26-40dc-a9fe-1efe8da65ea7",
   "metadata": {},
   "source": [
    "Determinamos el número de solicitantes que han  concluido o tienen trunco su nivel de estudio."
   ]
  },
  {
   "cell_type": "code",
   "execution_count": 20,
   "id": "7d18fa28-082b-4220-a285-69e49316ef8b",
   "metadata": {},
   "outputs": [
    {
     "data": {
      "text/plain": [
       "CONCLUIDO    13645\n",
       "TRUNCO        6179\n",
       "SIN DATO       964\n",
       "Name: estatus_estudios, dtype: int64"
      ]
     },
     "execution_count": 20,
     "metadata": {},
     "output_type": "execute_result"
    }
   ],
   "source": [
    "data_df['estatus_estudios'].value_counts()\n"
   ]
  },
  {
   "cell_type": "code",
   "execution_count": 21,
   "id": "5ed5153b-fb8b-4d61-9963-f85b9134d8a1",
   "metadata": {},
   "outputs": [
    {
     "data": {
      "text/plain": [
       "<AxesSubplot:>"
      ]
     },
     "execution_count": 21,
     "metadata": {},
     "output_type": "execute_result"
    },
    {
     "data": {
      "image/png": "[encoded data removed]",
      "text/plain": [
       "<Figure size 432x288 with 1 Axes>"
      ]
     },
     "metadata": {
      "needs_background": "light"
     },
     "output_type": "display_data"
    }
   ],
   "source": [
    "data_df['estatus_estudios'].value_counts().plot(kind='bar')"
   ]
  },
  {
   "cell_type": "code",
   "execution_count": 26,
   "id": "b0941320-bba7-461b-9802-0338dc57c63a",
   "metadata": {},
   "outputs": [],
   "source": [
    "#Comenzamos a agrupar por la variable último grado de estudios\n",
    "#para conocer el estatus de estudios, y el estatus de la solicitud \n",
    "df = pd.DataFrame(data_df, columns = ['ult_grado_estudios', 'estatus_estudios','estatus']) "
   ]
  },
  {
   "cell_type": "code",
   "execution_count": 27,
   "id": "181a3465-ea9f-45c4-a10f-6424dfa32d58",
   "metadata": {},
   "outputs": [
    {
     "data": {
      "text/plain": [
       "<AxesSubplot:xlabel='ult_grado_estudios,estatus_estudios,estatus'>"
      ]
     },
     "execution_count": 27,
     "metadata": {},
     "output_type": "execute_result"
    },
    {
     "data": {
      "image/png": "[encoded data removed]",
      "text/plain": [
       "<Figure size 432x288 with 1 Axes>"
      ]
     },
     "metadata": {
      "needs_background": "light"
     },
     "output_type": "display_data"
    }
   ],
   "source": [
    "df.groupby(by='ult_grado_estudios').value_counts().plot(kind='bar')"
   ]
  },
  {
   "cell_type": "code",
   "execution_count": 28,
   "id": "55b5652c-e07c-45e5-941c-f4884d967e98",
   "metadata": {},
   "outputs": [
    {
     "data": {
      "text/plain": [
       "ult_grado_estudios  estatus_estudios  estatus    \n",
       "BACHILLERATO        CONCLUIDO         APROBADO       2237\n",
       "                    TRUNCO            APROBADO       1494\n",
       "                    CONCLUIDO         NO APROBADO    1162\n",
       "                    TRUNCO            NO APROBADO     841\n",
       "                    SIN DATO          APROBADO         12\n",
       "                                      NO APROBADO       3\n",
       "LICENCIATURA        CONCLUIDO         APROBADO       2251\n",
       "                    TRUNCO            APROBADO       1192\n",
       "                    CONCLUIDO         NO APROBADO     901\n",
       "                    TRUNCO            NO APROBADO     629\n",
       "                    SIN DATO          APROBADO          5\n",
       "NINGUNO             SIN DATO          APROBADO        232\n",
       "                                      NO APROBADO      77\n",
       "                    CONCLUIDO         APROBADO          4\n",
       "                    TRUNCO            APROBADO          1\n",
       "POSGRADO            CONCLUIDO         APROBADO        243\n",
       "                                      NO APROBADO     103\n",
       "                    TRUNCO            APROBADO         45\n",
       "                                      NO APROBADO      19\n",
       "                    SIN DATO          APROBADO          1\n",
       "PRIMARIA            CONCLUIDO         APROBADO        881\n",
       "                    TRUNCO            APROBADO        485\n",
       "                    CONCLUIDO         NO APROBADO     364\n",
       "                    TRUNCO            NO APROBADO     174\n",
       "                    SIN DATO          APROBADO         21\n",
       "                                      NO APROBADO      11\n",
       "SECUNDARIA          CONCLUIDO         APROBADO       2616\n",
       "                                      NO APROBADO    1292\n",
       "                    TRUNCO            APROBADO        627\n",
       "                                      NO APROBADO     308\n",
       "                    SIN DATO          APROBADO         18\n",
       "                                      NO APROBADO      10\n",
       "SIN DATO            SIN DATO          APROBADO        521\n",
       "                                      NO APROBADO      43\n",
       "                    TRUNCO            NO APROBADO       9\n",
       "                    CONCLUIDO         NO APROBADO       7\n",
       "                                      APROBADO          4\n",
       "                    TRUNCO            APROBADO          2\n",
       "TECNICA/COMERCIAL   CONCLUIDO         APROBADO       1082\n",
       "                                      NO APROBADO     498\n",
       "                    TRUNCO            APROBADO        214\n",
       "                                      NO APROBADO     139\n",
       "                    SIN DATO          APROBADO          8\n",
       "                                      NO APROBADO       2\n",
       "dtype: int64"
      ]
     },
     "execution_count": 28,
     "metadata": {},
     "output_type": "execute_result"
    }
   ],
   "source": [
    "df.groupby(by='ult_grado_estudios').value_counts()"
   ]
  },
  {
   "cell_type": "code",
   "execution_count": 44,
   "id": "c1de290e-0a43-4ada-8254-c7b97bd659f4",
   "metadata": {},
   "outputs": [
    {
     "data": {
      "text/plain": [
       "ult_grado_estudios  estatus    \n",
       "BACHILLERATO        APROBADO       3743\n",
       "                    NO APROBADO    2006\n",
       "LICENCIATURA        APROBADO       3448\n",
       "                    NO APROBADO    1530\n",
       "NINGUNO             APROBADO        237\n",
       "                    NO APROBADO      77\n",
       "POSGRADO            APROBADO        289\n",
       "                    NO APROBADO     122\n",
       "PRIMARIA            APROBADO       1387\n",
       "                    NO APROBADO     549\n",
       "SECUNDARIA          APROBADO       3261\n",
       "                    NO APROBADO    1610\n",
       "SIN DATO            APROBADO        527\n",
       "                    NO APROBADO      59\n",
       "TECNICA/COMERCIAL   APROBADO       1304\n",
       "                    NO APROBADO     639\n",
       "dtype: int64"
      ]
     },
     "execution_count": 44,
     "metadata": {},
     "output_type": "execute_result"
    }
   ],
   "source": [
    "#Comenzamos a agrupar por la variable último grado de estudios\n",
    "#para conocer el estatus de estudios, y el estatus de la solicitud \n",
    "df = pd.DataFrame(data_df, columns = ['ult_grado_estudios', 'estatus']) \n",
    "df.groupby(by='ult_grado_estudios').value_counts()"
   ]
  },
  {
   "cell_type": "code",
   "execution_count": 46,
   "id": "3f4aa77a-39bd-4b00-93bf-027162bde516",
   "metadata": {},
   "outputs": [
    {
     "data": {
      "text/plain": [
       "<AxesSubplot:xlabel='ult_grado_estudios,estatus'>"
      ]
     },
     "execution_count": 46,
     "metadata": {},
     "output_type": "execute_result"
    },
    {
     "data": {
      "image/png": "[encoded data removed]",
      "text/plain": [
       "<Figure size 432x288 with 1 Axes>"
      ]
     },
     "metadata": {
      "needs_background": "light"
     },
     "output_type": "display_data"
    }
   ],
   "source": [
    "df.groupby(by='ult_grado_estudios').value_counts().plot(kind='bar')"
   ]
  },
  {
   "cell_type": "markdown",
   "id": "0f50e711-06be-459c-a446-0ab9b8e861ed",
   "metadata": {},
   "source": [
    "Por la falta de información en otras variables, me enfoque en el ult_grado_estudios, estatus_estudios y estatus para hacer el análisis, ya que las variables estado_civil, dependientes_ecconomicos, um_dependientes_economicos', profesion y tiempo_buscando_empleo las descarté por que los datos en su mayoría no eran proporcionados."
   ]
  },
  {
   "cell_type": "markdown",
   "id": "0b739eff-6b57-4868-8ba9-66cab72b5701",
   "metadata": {},
   "source": [
    "Las personas con los niveles de estudio de bachillerato y licenciatura solicitan la mayor parte  de los seguros de deempleo mientras que los que tienen nivel de posgrado son los que menos lo solicitan."
   ]
  },
  {
   "cell_type": "markdown",
   "id": "1d558846-fb12-4411-91bb-43d26bcef033",
   "metadata": {},
   "source": [
    " Del universo de seguros de desempleos que contiene el archivo que son registros del 24/07/2020 hasta Enero 2021"
   ]
  },
  {
   "cell_type": "code",
   "execution_count": 65,
   "id": "de916350-1f22-4382-9daf-7769a69acfb4",
   "metadata": {},
   "outputs": [
    {
     "data": {
      "text/plain": [
       "20788"
      ]
     },
     "execution_count": 65,
     "metadata": {},
     "output_type": "execute_result"
    }
   ],
   "source": [
    "df = pd.DataFrame(data_df, columns = ['ult_grado_estudios']) \n",
    "sum(df.groupby(by='ult_grado_estudios').value_counts())"
   ]
  },
  {
   "cell_type": "markdown",
   "id": "4ed33e42-f68c-4959-b7dc-ab04af8edac0",
   "metadata": {},
   "source": [
    "La mayoria lo representan las personas que tienen nivel de estudios de Bachillerato con un porcentaje sobre el total del porcentaje"
   ]
  },
  {
   "cell_type": "code",
   "execution_count": 66,
   "id": "a8478511-3174-42ee-965b-cf0682e16074",
   "metadata": {},
   "outputs": [
    {
     "data": {
      "text/plain": [
       "27.655378102751587"
      ]
     },
     "execution_count": 66,
     "metadata": {},
     "output_type": "execute_result"
    }
   ],
   "source": [
    "(sum(df[df['ult_grado_estudios'] == 'BACHILLERATO'].value_counts())/sum(df.groupby(by='ult_grado_estudios').value_counts()))*100\n"
   ]
  },
  {
   "cell_type": "markdown",
   "id": "0f71b413-7996-47d0-9122-8ba1a5b4fea5",
   "metadata": {},
   "source": [
    "Seguido por quien tiene Licenciatura con un porcentaje sobre el total del porcentaje"
   ]
  },
  {
   "cell_type": "code",
   "execution_count": 67,
   "id": "fb8bd3ae-b90b-4a94-a6b6-a9ab818391ca",
   "metadata": {},
   "outputs": [
    {
     "data": {
      "text/plain": [
       "23.946507600538773"
      ]
     },
     "execution_count": 67,
     "metadata": {},
     "output_type": "execute_result"
    }
   ],
   "source": [
    "(sum(df[df['ult_grado_estudios'] == 'LICENCIATURA'].value_counts())/sum(df.groupby(by='ult_grado_estudios').value_counts()))*100\n"
   ]
  },
  {
   "cell_type": "markdown",
   "id": "376228f5-ef02-489c-b2d3-0cd26285b29e",
   "metadata": {},
   "source": [
    "Mientras los que tienen posgrado solo representan un porcentaje mínimo del"
   ]
  },
  {
   "cell_type": "code",
   "execution_count": 68,
   "id": "092fac9f-40a6-49a6-9837-99af3ead7ff0",
   "metadata": {},
   "outputs": [
    {
     "data": {
      "text/plain": [
       "1.9771021743313448"
      ]
     },
     "execution_count": 68,
     "metadata": {},
     "output_type": "execute_result"
    }
   ],
   "source": [
    "(sum(df[df['ult_grado_estudios'] == 'POSGRADO'].value_counts())/sum(df.groupby(by='ult_grado_estudios').value_counts()))*100\n"
   ]
  },
  {
   "cell_type": "code",
   "execution_count": null,
   "id": "3339087d-8333-4ebe-9693-54d2ccdb88b2",
   "metadata": {},
   "outputs": [],
   "source": []
  }
 ],
 "metadata": {
  "kernelspec": {
   "display_name": "Python 3 (ipykernel)",
   "language": "python",
   "name": "python3"
  },
  "language_info": {
   "codemirror_mode": {
    "name": "ipython",
    "version": 3
   },
   "file_extension": ".py",
   "mimetype": "text/x-python",
   "name": "python",
   "nbconvert_exporter": "python",
   "pygments_lexer": "ipython3",
   "version": "3.9.12"
  }
 },
 "nbformat": 4,
 "nbformat_minor": 5
}
